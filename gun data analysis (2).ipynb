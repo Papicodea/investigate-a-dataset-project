{
 "cells": [
  {
   "cell_type": "markdown",
   "id": "f90abac4",
   "metadata": {},
   "source": [
    "#Project: FBI-GUN DATA ANALYSIS\n",
    "\n",
    "##Table of Contents\n",
    "    \n",
    "    Introduction\n",
    "    \n",
    "    Data Wrangling\n",
    "    \n",
    "    Exploratory Data Analysis\n",
    "    \n",
    "    Conclusions"
   ]
  },
  {
   "cell_type": "markdown",
   "id": "112b925d",
   "metadata": {},
   "source": [
    "Introduction\n",
    "    \n",
    "    Dataset Description\n",
    "           The FBI gun datasets comes from the  NICS - The National  Instant Criminal Background Check System which is used to determine whether a prospective buyer is eligible to buy firearms or explosives. Gun shops call in to this system, to be sure that customers do not have a criminal record or is ineligible to purchase one."
   ]
  },
  {
   "cell_type": "markdown",
   "id": "8ae0ea9e",
   "metadata": {},
   "source": [
    "Questions for Analysis\n",
    "\n",
    "    What month had the highest registration in private gun?\n",
    "    Which states have had the highest growth in gun registrations? \n",
    "    What is the overall trend of gun purchases?\n",
    "    Which state have had the lowest growth in gun registration?"
   ]
  },
  {
   "cell_type": "code",
   "execution_count": null,
   "id": "a4f00be6",
   "metadata": {},
   "outputs": [],
   "source": [
    "import numpy as np\n",
    "import pandas as pd\n",
    "import matplotlib.pyplot as plt\n",
    "%matplotlib inline \n",
    "import seaborn as sns"
   ]
  },
  {
   "cell_type": "code",
   "execution_count": null,
   "id": "fe91f6da",
   "metadata": {
    "scrolled": false
   },
   "outputs": [],
   "source": [
    "df = pd.read_csv('gun_data.csv')\n",
    "df. head()"
   ]
  },
  {
   "cell_type": "code",
   "execution_count": null,
   "id": "da881231",
   "metadata": {},
   "outputs": [],
   "source": [
    "#returns a turple of the dimensions of dataframe\n",
    "df. shape"
   ]
  },
  {
   "cell_type": "code",
   "execution_count": null,
   "id": "08848091",
   "metadata": {
    "scrolled": true
   },
   "outputs": [],
   "source": [
    "#returns the datatypes of the columns\n",
    "df. dtypes"
   ]
  },
  {
   "cell_type": "code",
   "execution_count": null,
   "id": "0cfc51e0",
   "metadata": {
    "scrolled": true
   },
   "outputs": [],
   "source": [
    "#returns information on the dataset\n",
    "df. info()"
   ]
  },
  {
   "cell_type": "code",
   "execution_count": null,
   "id": "16076fd3",
   "metadata": {},
   "outputs": [],
   "source": [
    "#returns unique values in each columns\n",
    "df. nunique()"
   ]
  },
  {
   "cell_type": "code",
   "execution_count": null,
   "id": "07aaa79b",
   "metadata": {
    "scrolled": true
   },
   "outputs": [],
   "source": [
    "#decribes the dataset\n",
    "df. describe()"
   ]
  },
  {
   "cell_type": "code",
   "execution_count": null,
   "id": "c73f8cdb",
   "metadata": {
    "scrolled": true
   },
   "outputs": [],
   "source": [
    "#showing results of the first 10 data in the dataset\n",
    "df. head(60)"
   ]
  },
  {
   "cell_type": "markdown",
   "id": "e624f22d",
   "metadata": {},
   "source": [
    "    Assesing this data, I found that they were missing values in the dataset hence took the folowing steps to correct it."
   ]
  },
  {
   "cell_type": "code",
   "execution_count": null,
   "id": "d676be8f",
   "metadata": {},
   "outputs": [],
   "source": [
    "#to fill in missing values\n",
    "df. fillna(df.mean(), inplace=True)"
   ]
  },
  {
   "cell_type": "code",
   "execution_count": null,
   "id": "6b0693fe",
   "metadata": {
    "scrolled": true
   },
   "outputs": [],
   "source": [
    "#returns the dataset from bottom to top, 12 places\n",
    "df. tail(12)"
   ]
  },
  {
   "cell_type": "code",
   "execution_count": null,
   "id": "b3c82f90",
   "metadata": {
    "scrolled": true
   },
   "outputs": [],
   "source": [
    "#to confirm correction of the missing values\n",
    "df. info"
   ]
  },
  {
   "cell_type": "markdown",
   "id": "9abc5557",
   "metadata": {},
   "source": [
    "    Cleaning data and checking for duplicate data. There were no duplicates in this dataframe"
   ]
  },
  {
   "cell_type": "code",
   "execution_count": null,
   "id": "5135a326",
   "metadata": {},
   "outputs": [],
   "source": [
    "#checking for the duplicates\n",
    "sum(df.duplicated())"
   ]
  },
  {
   "cell_type": "code",
   "execution_count": null,
   "id": "b061dfc5",
   "metadata": {
    "scrolled": true
   },
   "outputs": [],
   "source": [
    "#exploring data\n",
    "df. hist(figsize=(40, 40));"
   ]
  },
  {
   "cell_type": "code",
   "execution_count": null,
   "id": "7fafa9c0",
   "metadata": {
    "scrolled": true
   },
   "outputs": [],
   "source": [
    "#colorcode visualization of some of the main pointers\n",
    "plt.figure(figsize=(7,5))\n",
    "plt.hist(df['permit'], facecolor='g', label='Permit')\n",
    "plt.hist(df['long_gun'], facecolor='b', label='long_gun')\n",
    "plt.hist(df['handgun'], facecolor='y', label='Handgun')\n",
    "plt.title ('Histogram')\n",
    "plt.xlabel ('Number of people')\n",
    "plt.ylabel ('Frequency')\n",
    "plt.xlim (0, 100000)\n",
    "plt.ylim (0, 15000)\n",
    "plt.legend(loc='best')\n",
    "plt.grid(True)"
   ]
  },
  {
   "cell_type": "code",
   "execution_count": null,
   "id": "dec59d96",
   "metadata": {},
   "outputs": [],
   "source": [
    "#relationship btw long_gun to permit. \n",
    "df.plot(x= 'permit', y= 'long_gun', kind= 'scatter');\n",
    "plt.title('A Simple Scatter plot')"
   ]
  },
  {
   "cell_type": "code",
   "execution_count": null,
   "id": "2c45a2f1",
   "metadata": {
    "scrolled": false
   },
   "outputs": [],
   "source": [
    "#a scattered plot showing relation between totals of gun purchase to handgun\n",
    "df.plot(x= 'totals', y= 'handgun', kind= 'scatter',);\n",
    "plt.title('A Simple Scatter plot')"
   ]
  },
  {
   "cell_type": "code",
   "execution_count": null,
   "id": "66d2f3da",
   "metadata": {
    "scrolled": true
   },
   "outputs": [],
   "source": [
    "#purchase amount for the past month\n",
    "df.iloc[54:, 1:].sum()"
   ]
  },
  {
   "cell_type": "code",
   "execution_count": null,
   "id": "19a8acb9",
   "metadata": {
    "scrolled": false
   },
   "outputs": [],
   "source": [
    "#average purchase\n",
    "plt.figure(figsize= (7,5))\n",
    "df.mean().plot(kind='bar')\n",
    "plt.title('Average Purchase')\n",
    "plt.xlabel('Category')\n",
    "plt.ylabel('Amount');"
   ]
  },
  {
   "cell_type": "markdown",
   "id": "06a27f01",
   "metadata": {},
   "source": [
    "    The chat as we see here, shows that Long_guns are more purchased in relation to the Totals gun purchased; But not all who own a gun or firearms have a permit to carry with the permit_recheck low and the handgun equivalent to the the number of permits."
   ]
  },
  {
   "cell_type": "code",
   "execution_count": null,
   "id": "ce467afa",
   "metadata": {},
   "outputs": [],
   "source": [
    "#state with the highest growth in gun purchases\n",
    "df[df['permit'] == df['permit'].max()]"
   ]
  },
  {
   "cell_type": "markdown",
   "id": "1976b21c",
   "metadata": {},
   "source": [
    "    it can be noted from the analysis as North Carolina to be the state with high gun purchase. Although with permit_recheck being at a high, a High amount of people do have a permit to carry. This can lead to violence in such states"
   ]
  },
  {
   "cell_type": "code",
   "execution_count": null,
   "id": "61ee4c66",
   "metadata": {
    "scrolled": false
   },
   "outputs": [],
   "source": [
    "#states with the lowest growth in the gun purchases\n",
    "df[df['permit'] == df['permit'].min()]"
   ]
  },
  {
   "cell_type": "markdown",
   "id": "2eb30347",
   "metadata": {},
   "source": [
    "     The findings of the states with lowest purchases are quite a few number but what i observed here is, in states like Utah, Vermont, Virgin Islands, Virginia and Winsconsin they do not only have low gun purchases but also a high amount of permit check which can be interpretted as places where gun carriers are few and less gun violence as a result. "
   ]
  },
  {
   "cell_type": "code",
   "execution_count": null,
   "id": "6a51522a",
   "metadata": {
    "scrolled": false
   },
   "outputs": [],
   "source": [
    "#the overall trend of gun purchases given by \n",
    "df.plot(x= 'totals', y= 'permit', kind= 'scatter',);\n",
    "plt.title('Overall Trend of Gun Purchase')"
   ]
  },
  {
   "cell_type": "markdown",
   "id": "a4427e01",
   "metadata": {},
   "source": [
    "Conclusions\n",
    "      Results: Our data suggests that\n",
    "      \n",
    "      1. Most people who have firearms do not have a permit or licence to carry.\n",
    "      2. The states who have high gun purchase rate are more likely to have issues in gun violence whereas those with average to low gun purchase have less gun violence  \n",
    "      3. There is a correlation between the totals of gun purchase to the number of people lincence to carry..\n",
    "      \n",
    "   Limitations: There are a couple limitations to our data\n",
    "   \n",
    "     1. The census data brings encountered isssues with upload to the dataframe even after converting from .xlsx to csv\n",
    "     2. The statistics used here are descriptive statistics not the inferential, which means that we did not create any hypotheses or controlled experiments with our data \n",
    "     3.Most of our variables are categorical, which does not allow for high level of statistical method that can be used to provide accurate strong correlations"
   ]
  },
  {
   "cell_type": "code",
   "execution_count": null,
   "id": "2663072b",
   "metadata": {},
   "outputs": [],
   "source": [
    "df_a = df[df['totals'] == ' >500000']\n",
    "df_b = df[df['totals'] == ' <=500000']"
   ]
  },
  {
   "cell_type": "code",
   "execution_count": null,
   "id": "e8f82031",
   "metadata": {},
   "outputs": [],
   "source": [
    "plt.figure(figsize=(10,7))\n",
    "plt.bar([1, 2, 3], [5500, 8000, 6000], tick_label=['Handgun', 'Long_gun', 'Permit'])\n",
    "\n",
    "plt.title('Average gun purchase')\n",
    "plt.xlabel('Amount')\n",
    "plt.ylabel('Totals');"
   ]
  }
 ],
 "metadata": {
  "kernelspec": {
   "display_name": "Python 3",
   "language": "python",
   "name": "python3"
  },
  "language_info": {
   "codemirror_mode": {
    "name": "ipython",
    "version": 3
   },
   "file_extension": ".py",
   "mimetype": "text/x-python",
   "name": "python",
   "nbconvert_exporter": "python",
   "pygments_lexer": "ipython3",
   "version": "3.6.13"
  }
 },
 "nbformat": 4,
 "nbformat_minor": 5
}
